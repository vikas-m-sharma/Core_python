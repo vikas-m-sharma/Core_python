{
  "nbformat": 4,
  "nbformat_minor": 0,
  "metadata": {
    "colab": {
      "provenance": [],
      "authorship_tag": "ABX9TyM42eRmhlR2gg/wH2OhSCCV",
      "include_colab_link": true
    },
    "kernelspec": {
      "name": "python3",
      "display_name": "Python 3"
    },
    "language_info": {
      "name": "python"
    }
  },
  "cells": [
    {
      "cell_type": "markdown",
      "metadata": {
        "id": "view-in-github",
        "colab_type": "text"
      },
      "source": [
        "<a href=\"https://colab.research.google.com/github/vikas-m-sharma/Core_python/blob/main/Advance_Python.ipynb\" target=\"_parent\"><img src=\"https://colab.research.google.com/assets/colab-badge.svg\" alt=\"Open In Colab\"/></a>"
      ]
    },
    {
      "cell_type": "code",
      "execution_count": null,
      "metadata": {
        "id": "N2zjxpj7WdAg"
      },
      "outputs": [],
      "source": [
        "# Object oriented programming\n"
      ]
    },
    {
      "cell_type": "markdown",
      "source": [
        "**What is OOP?**\n",
        "Object-Oriented Programming (OOP) is a way of writing programs using objects and classes.\n",
        "It helps organize code, make it reusable, and model real-world things like students, cars, or bank accounts.\n",
        "\n",
        " 4** Basic Pillars of OOP:**\n",
        "**bold text**Pillar\t**Meaning**\n",
        " Encapsulation\tWrapping data and methods in a class\n",
        "Abstraction\tHiding complexity and showing only essential details\n",
        " Inheritance\tOne class inherits features from *another*\n",
        "**bold text** Polymorphism\tSame function behaves differently depending on object"
      ],
      "metadata": {
        "id": "yAZ4mwLRWnXP"
      }
    },
    {
      "cell_type": "code",
      "source": [
        "class Phone():\n",
        "  def make_call(self):\n",
        "    print(\"i am making a call\")\n",
        "  def play_game(self):\n",
        "    print(\"i am playing a game\")\n",
        "\n",
        "p1 = Phone()\n",
        "p1.make_call()\n",
        "p1.play_game()"
      ],
      "metadata": {
        "colab": {
          "base_uri": "https://localhost:8080/"
        },
        "id": "44xGSwzgWmMV",
        "outputId": "4531e826-02d9-4a37-9ed7-c1cfc3c20640"
      },
      "execution_count": null,
      "outputs": [
        {
          "output_type": "stream",
          "name": "stdout",
          "text": [
            "i am making a call\n",
            "i am playing a game\n"
          ]
        }
      ]
    },
    {
      "cell_type": "code",
      "source": [
        "class Kajal():\n",
        "  def loving(self):\n",
        "    print(\"I love you\")\n",
        "  def genious(self):\n",
        "    print(\"She is genious\")\n",
        "\n",
        "k1 = Kajal()\n",
        "k1.loving()\n",
        "k1.genious()"
      ],
      "metadata": {
        "colab": {
          "base_uri": "https://localhost:8080/"
        },
        "id": "ayDaMs0pcjJ2",
        "outputId": "5b01b191-bff3-45e1-e65d-4ae411219a5f"
      },
      "execution_count": null,
      "outputs": [
        {
          "output_type": "stream",
          "name": "stdout",
          "text": [
            "I love you\n",
            "She is genious\n"
          ]
        }
      ]
    },
    {
      "cell_type": "code",
      "source": [
        "# adding parameter\n",
        "class leptop():\n",
        "  def leptop_brand(self,brand):\n",
        "    self.leptop_brand=brand\n",
        "    print(\"The brand of leptop is\",brand)\n",
        "  def leptop_color(self,color):\n",
        "    self.leptop_color=color\n",
        "    print(\"The color of leptop is\",color)\n",
        "  def leptop_ram(self,ram):\n",
        "    self.leptop_ram=ram\n",
        "    print(\"The ram of leptop is\",ram)\n",
        "  def leptop_processor(self,processor):\n",
        "    self.leptop_processor=processor\n",
        "    print(\"The processor of leptop is\",processor)\n",
        "  def leptop_storage(self,storage):\n",
        "    self.leptop_storage=storage\n",
        "    print(\"The storage of leptop is\",storage)\n",
        "  def leptop_price(self,price):\n",
        "    self.leptop_price=price\n",
        "    print(\"The price of leptop is\",price)\n",
        "\n",
        "leptop1=leptop()\n",
        "leptop1.leptop_brand(\"HP\")\n",
        "leptop1.leptop_color(\"Black\")\n",
        "leptop1.leptop_ram(\"8GB\")\n",
        "leptop1.leptop_processor(\"i5\")\n",
        "leptop1.leptop_storage(\"1TB\")\n",
        "leptop1.leptop_price(\"20000\")"
      ],
      "metadata": {
        "colab": {
          "base_uri": "https://localhost:8080/"
        },
        "id": "0Wc0wqmuclGV",
        "outputId": "a3f77ea6-7590-4dd8-efe9-a103e843cf37"
      },
      "execution_count": null,
      "outputs": [
        {
          "output_type": "stream",
          "name": "stdout",
          "text": [
            "The brand of leptop is HP\n",
            "The color of leptop is Black\n",
            "The ram of leptop is 8GB\n",
            "The processor of leptop is i5\n",
            "The storage of leptop is 1TB\n",
            "The price of leptop is 20000\n"
          ]
        }
      ]
    },
    {
      "cell_type": "code",
      "source": [
        "# constructor\n",
        "\n",
        "class Shree_Ram():\n",
        "    def __init__(self,name,age,gender):\n",
        "        self.name = name\n",
        "        self.age = age\n",
        "        self.gender = gender\n",
        "\n",
        "    def show_strength(self):\n",
        "        print(\"🛡️ Lord Shree Ram is the embodiment of strength, courage, and righteousness.\")\n",
        "\n",
        "    def show_kindness(self):\n",
        "        print(\"💖 With a heart full of compassion, Shree Ram is the epitome of divine kindness and grace.\")\n",
        "\n",
        "    def show_devotion(self):\n",
        "        print(\"🌺 Devotion to Dharma, love for all beings, and selfless service define the soul of Shree Ram.\")\n",
        "\n",
        "    def legacy(self):\n",
        "        print(\"🌟 Shree Ram’s legacy inspires millions to walk the path of truth, honor, and compassion.\")\n",
        "\n",
        "ram = Shree_Ram(\"Maryada Purushottam Ram\", 35, \"Male\")\n",
        "ram.show_strength()\n",
        "ram.show_kindness()\n",
        "ram.show_devotion()\n",
        "ram.legacy()"
      ],
      "metadata": {
        "colab": {
          "base_uri": "https://localhost:8080/"
        },
        "id": "QAxizTsPczSc",
        "outputId": "6dfe4158-9cc3-4be2-f346-6099d956d98b"
      },
      "execution_count": null,
      "outputs": [
        {
          "output_type": "stream",
          "name": "stdout",
          "text": [
            "🛡️ Lord Shree Ram is the embodiment of strength, courage, and righteousness.\n",
            "💖 With a heart full of compassion, Shree Ram is the epitome of divine kindness and grace.\n",
            "🌺 Devotion to Dharma, love for all beings, and selfless service define the soul of Shree Ram.\n",
            "🌟 Shree Ram’s legacy inspires millions to walk the path of truth, honor, and compassion.\n"
          ]
        }
      ]
    },
    {
      "cell_type": "code",
      "source": [
        "class Employee():\n",
        "  def __init__(self,name,age,salary,gender):\n",
        "    self.name = name\n",
        "    self.age = age\n",
        "    self.salary = salary\n",
        "    self.gender = gender\n",
        "  def show_employee_details(self):\n",
        "    print(\"Name of employee is\",self.name)\n",
        "    print(\"Age of employee is\",self.age)\n",
        "    print(\"Salary of employee is\",self.salary)\n",
        "    print(\"Gender of employee is\",self.gender)\n",
        "\n",
        "e1 = Employee(\"Kajal\",20,10000,\"Female\")\n",
        "e1.show_employee_details()"
      ],
      "metadata": {
        "colab": {
          "base_uri": "https://localhost:8080/"
        },
        "id": "IyLAvEtNrn4h",
        "outputId": "cda31e28-36d4-4e88-8f16-f6831ff1b245"
      },
      "execution_count": null,
      "outputs": [
        {
          "output_type": "stream",
          "name": "stdout",
          "text": [
            "Name of employee is Kajal\n",
            "Age of employee is 20\n",
            "Salary of employee is 10000\n",
            "Gender of employee is Female\n"
          ]
        }
      ]
    },
    {
      "cell_type": "code",
      "source": [
        "# inheritence :- Inheritance allows one class (child) to reuse or extend the features of another class (parent).\n",
        "\n",
        "class Vehicle():\n",
        "  def __init__(self,make,model,year):\n",
        "    self.make = make\n",
        "    self.model = model\n",
        "    self.year = year\n",
        "  def show_vehicle_details(self):\n",
        "    print(\"Make of vehicle is\",self.make)\n",
        "    print(\"Model of vehicle is\",self.model)\n",
        "    print(\"Year of vehicle is\",self.year)\n",
        "\n",
        "v1 = Vehicle(\"Toyota\",\"Corolla\",2023)\n",
        "v1.show_vehicle_details()"
      ],
      "metadata": {
        "colab": {
          "base_uri": "https://localhost:8080/"
        },
        "id": "Fwosrmoztcx-",
        "outputId": "2dbc9bc3-930d-44b1-ae3f-187cf2e86807"
      },
      "execution_count": null,
      "outputs": [
        {
          "output_type": "stream",
          "name": "stdout",
          "text": [
            "Make of vehicle is Toyota\n",
            "Model of vehicle is Corolla\n",
            "Year of vehicle is 2023\n"
          ]
        }
      ]
    },
    {
      "cell_type": "code",
      "source": [
        "class Car(Vehicle):\n",
        "  def show_car_details(self):\n",
        "    print(\"This is a car\")\n",
        "c1 = Car(\"Toyota\",\"Corolla\",2023)\n",
        "c1.show_vehicle_details()\n",
        "c1.show_car_details()"
      ],
      "metadata": {
        "colab": {
          "base_uri": "https://localhost:8080/"
        },
        "id": "KqETWqjt4VKH",
        "outputId": "d58be608-6202-47b1-e1ba-264d7ac9e963"
      },
      "execution_count": null,
      "outputs": [
        {
          "output_type": "stream",
          "name": "stdout",
          "text": [
            "Make of vehicle is Toyota\n",
            "Model of vehicle is Corolla\n",
            "Year of vehicle is 2023\n",
            "This is a car\n"
          ]
        }
      ]
    },
    {
      "cell_type": "code",
      "source": [
        "class God_Shiva():\n",
        "  def __init__(self,name,weapon,power):\n",
        "    self.name=name\n",
        "    self.weapon = weapon\n",
        "    self.power = power\n",
        "  def show_identity(self):\n",
        "    print(f\"🔱 {self.name} is known as the Mahadev — the supreme destroyer of evil.\")\n",
        "  def show_weapon(self):\n",
        "    print(f\"⚔️ Weapon: {self.weapon}\")\n",
        "  def show_power(self):\n",
        "        print(f\"💥 Power: {self.power}\")"
      ],
      "metadata": {
        "id": "MgYEFHqv4zZ5"
      },
      "execution_count": null,
      "outputs": []
    },
    {
      "cell_type": "code",
      "source": [
        "class ShriRam(God_Shiva):\n",
        "    def __init__(self, name, weapon, power,kingdom):\n",
        "        super().__init__(name, weapon, power)\n",
        "        self.kingdom = kingdom\n",
        "    def show_legacy(self):\n",
        "        print(f\"👑 {self.name} ruled the kingdom of {self.kingdom} with dharma and honor.\")"
      ],
      "metadata": {
        "id": "CrLLK9135_Ni"
      },
      "execution_count": null,
      "outputs": []
    },
    {
      "cell_type": "code",
      "source": [
        "ram = ShriRam(\"Lord Ram\", \"Bow & Arrow\", \"Unmatched virtue and strength\", \"Ayodhya\")\n",
        "\n",
        "ram.show_identity()     # From GodShiva class\n",
        "ram.show_weapon()       # From GodShiva class\n",
        "ram.show_power()        # From GodShiva class\n",
        "ram.show_legacy()       # From ShreeRam class"
      ],
      "metadata": {
        "colab": {
          "base_uri": "https://localhost:8080/"
        },
        "id": "u-2v4ObF6cXJ",
        "outputId": "97049606-cca2-4566-e7d4-acc31e2e6dda"
      },
      "execution_count": null,
      "outputs": [
        {
          "output_type": "stream",
          "name": "stdout",
          "text": [
            "🔱 Lord Ram is known as the Mahadev — the supreme destroyer of evil.\n",
            "⚔️ Weapon: Bow & Arrow\n",
            "💥 Power: Unmatched virtue and strength\n",
            "👑 Lord Ram ruled the kingdom of Ayodhya with dharma and honor.\n"
          ]
        }
      ]
    },
    {
      "cell_type": "code",
      "source": [
        "class computer():\n",
        "  def __init__(self,brand,price):\n",
        "    self.brand  = brand\n",
        "    self.price  = price\n",
        "\n",
        "  def hardware(self):\n",
        "    print(\"Nice hardware system support \")\n",
        "  def processor(self):\n",
        "    print(\"The process its contain 13 gen\")\n",
        "c1 = computer(\"HP\",20000)\n",
        "c1.hardware()\n",
        "c1.processor()\n"
      ],
      "metadata": {
        "colab": {
          "base_uri": "https://localhost:8080/"
        },
        "id": "MlhFo9N06dAu",
        "outputId": "2edfb0a5-1a88-4fb0-c17d-f4e09fc1304f"
      },
      "execution_count": null,
      "outputs": [
        {
          "output_type": "stream",
          "name": "stdout",
          "text": [
            "Nice hardware system support \n",
            "The process its contain 13 gen\n"
          ]
        }
      ]
    },
    {
      "cell_type": "code",
      "source": [
        "class leptop(computer):\n",
        "  def __init__(self,brand, price, ram, processor, storage):\n",
        "    super().__init__(brand, price)\n",
        "    self.ram = ram\n",
        "    self.processor = processor\n",
        "    self.storage = storage\n",
        "\n",
        "  def show_details(self):\n",
        "    print(\"Brand:\", self.brand)\n",
        "    print(\"Price:\", self.price)\n",
        "    print(\"RAM:\", self.ram)\n",
        "    print(\"Processor:\", self.processor)\n",
        "    print(\"Storage:\", self.storage)\n",
        "\n",
        "leptop1 = leptop(\"HP\", 20000, \"8GB\", \"i5\", \"1TB\")\n",
        "leptop1.show_details()\n"
      ],
      "metadata": {
        "colab": {
          "base_uri": "https://localhost:8080/"
        },
        "id": "cQWHWUg9-nz5",
        "outputId": "4e6f976f-1129-43ac-b717-3412810f13ef"
      },
      "execution_count": null,
      "outputs": [
        {
          "output_type": "stream",
          "name": "stdout",
          "text": [
            "Brand: HP\n",
            "Price: 20000\n",
            "RAM: 8GB\n",
            "Processor: i5\n",
            "Storage: 1TB\n"
          ]
        }
      ]
    },
    {
      "cell_type": "code",
      "source": [
        "# type of inheritance :\n",
        "# 1. Single Inheritance\n"
      ],
      "metadata": {
        "id": "Lvy433MR_aON"
      },
      "execution_count": null,
      "outputs": []
    },
    {
      "cell_type": "code",
      "source": [
        "class God():\n",
        "  def bless(self):\n",
        "    print(\"Blessing from god \")\n",
        "class lord_shiva(God):\n",
        "  def meditate(self):\n",
        "   print(\"Lord Shiva is meditating in the Himalayas.\")\n",
        "\n",
        "shiva = lord_shiva()\n",
        "shiva.bless()\n",
        "shiva.meditate()"
      ],
      "metadata": {
        "colab": {
          "base_uri": "https://localhost:8080/"
        },
        "id": "djxhYqv0BzuP",
        "outputId": "a419c21a-b569-4992-c752-b3699d54922e"
      },
      "execution_count": null,
      "outputs": [
        {
          "output_type": "stream",
          "name": "stdout",
          "text": [
            "Blessing from god \n",
            "Lord Shiva is meditating in the Himalayas.\n"
          ]
        }
      ]
    },
    {
      "cell_type": "code",
      "source": [
        "#. Multiple Inheritance\n",
        "# A child class inherits from more than one parent class."
      ],
      "metadata": {
        "id": "hWgKmcOZCZn_"
      },
      "execution_count": null,
      "outputs": []
    },
    {
      "cell_type": "code",
      "source": [
        "class Creator:\n",
        "  def create_universe(self):\n",
        "    print(\"Creator is creating the universse\")\n",
        "\n",
        "class Desctroyer():\n",
        "  def destroy_evil(self):\n",
        "    print(\"Destroyer is destroying the evil\")\n",
        "\n",
        "class GodShiva(Creator,Desctroyer):\n",
        "  def dance(self):\n",
        "    print(\"GodShiva is dancing\")\n",
        "\n",
        "shiva = GodShiva()\n",
        "shiva.create_universe()\n",
        "shiva.destroy_evil()\n",
        "shiva.dance()"
      ],
      "metadata": {
        "colab": {
          "base_uri": "https://localhost:8080/"
        },
        "id": "kE4lnZSbUagT",
        "outputId": "0f57e7f6-4fcf-4971-86dd-6d63b642e47a"
      },
      "execution_count": null,
      "outputs": [
        {
          "output_type": "stream",
          "name": "stdout",
          "text": [
            "Creator is creating the universse\n",
            "Destroyer is destroying the evil\n",
            "GodShiva is dancing\n"
          ]
        }
      ]
    },
    {
      "cell_type": "code",
      "source": [
        "#. Multilevel Inheritance\n",
        "# A child inherits from a class, and that class inherits from another class."
      ],
      "metadata": {
        "id": "hVXtKEBOWAIt"
      },
      "execution_count": null,
      "outputs": []
    },
    {
      "cell_type": "code",
      "source": [
        "class Universe():\n",
        "  def existence(self):\n",
        "    print(\"Universe is existence\")\n",
        "\n",
        "class God(Universe):\n",
        "  def divine_power(self):\n",
        "    print(\"God is divine power\")\n",
        "\n",
        "class LordRam(God):\n",
        "  def virtue(self):\n",
        "    print(\"Lord Ram is the embodimrnt of virtue, courage, and righteousness.\")\n",
        "\n",
        "ram = LordRam()\n",
        "ram.existence()\n",
        "ram.divine_power()\n",
        "ram.virtue()\n"
      ],
      "metadata": {
        "colab": {
          "base_uri": "https://localhost:8080/"
        },
        "id": "tyy8S0otWKVi",
        "outputId": "15e3fb5c-59b9-42a3-9e66-0e6b97d59523"
      },
      "execution_count": null,
      "outputs": [
        {
          "output_type": "stream",
          "name": "stdout",
          "text": [
            "Universe is existence\n",
            "God is divine power\n",
            "Lord Ram is the embodimrnt of virtue, courage, and righteousness.\n"
          ]
        }
      ]
    },
    {
      "cell_type": "code",
      "source": [
        "# Hierarchical Inheritance\n",
        " # Multiple child classes inherit from a single parent class."
      ],
      "metadata": {
        "id": "5gJCqXNKXntn"
      },
      "execution_count": null,
      "outputs": []
    },
    {
      "cell_type": "code",
      "source": [
        "class God():\n",
        "  def bless(self):\n",
        "    print(\"Blessing from god\")\n",
        "\n",
        "class LordRam(God):\n",
        "  def meditate(self):\n",
        "    print(\"Lord Ram is meditating in the Himalayas.\")\n",
        "\n",
        "class LordShiva(God):\n",
        "  def dance(self):\n",
        "    print(\"Lord Shiva is dancing\")\n",
        "\n",
        "ram = LordRam()\n",
        "shiva = LordShiva()\n",
        "shiva.dance()\n",
        "ram.bless()\n",
        "ram.meditate()"
      ],
      "metadata": {
        "colab": {
          "base_uri": "https://localhost:8080/"
        },
        "id": "DTpFSytQXxbg",
        "outputId": "372ead74-9c22-492a-f9dd-2b0e0d6bc443"
      },
      "execution_count": null,
      "outputs": [
        {
          "output_type": "stream",
          "name": "stdout",
          "text": [
            "Lord Shiva is dancing\n",
            "Blessing from god\n",
            "Lord Ram is meditating in the Himalayas.\n"
          ]
        }
      ]
    },
    {
      "cell_type": "code",
      "source": [
        "# 5. Hybrid Inheritance\n",
        "# A combination of two or more types of inheritance. Python handles this using the Method Resolution Order (MRO)."
      ],
      "metadata": {
        "id": "knK3hs8IYQyI"
      },
      "execution_count": null,
      "outputs": []
    },
    {
      "cell_type": "code",
      "source": [
        "class God():\n",
        "  def bless(self):\n",
        "    print(\"Blessing from god\")\n",
        "\n",
        "class LordRam(God):\n",
        "  def meditate(self):\n",
        "    print(\"Lord Ram is meditating in the Himalayas.\")\n",
        "\n",
        "class LordShiva(God):\n",
        "  def Destroyer(self):\n",
        "    print(\"Lord Shiva is Destroyer\")\n",
        "\n",
        "class SupremeGod(LordRam , LordShiva):\n",
        "  def supreme(self):\n",
        "    print(\"Supreme god control everything \")\n",
        "\n",
        "\n",
        "supreme  = SupremeGod()\n",
        "supreme.bless()\n",
        "supreme.meditate()\n",
        "supreme.Destroyer()\n",
        "supreme.supreme()"
      ],
      "metadata": {
        "colab": {
          "base_uri": "https://localhost:8080/"
        },
        "id": "9ul1iOO3Yiu7",
        "outputId": "c2e9ff80-f7c1-4567-df8e-df6e8a521fac"
      },
      "execution_count": null,
      "outputs": [
        {
          "output_type": "stream",
          "name": "stdout",
          "text": [
            "Blessing from god\n",
            "Lord Ram is meditating in the Himalayas.\n",
            "Lord Shiva is Destroyer\n",
            "Supreme god control everything \n"
          ]
        }
      ]
    },
    {
      "cell_type": "code",
      "source": [
        "# what is encapsulation\n",
        "# Encapsulation means hiding internal details and protecting data by wrapping variables and methods inside a class."
      ],
      "metadata": {
        "id": "EsjIEcUiaxDV"
      },
      "execution_count": 1,
      "outputs": []
    },
    {
      "cell_type": "code",
      "source": [
        "class BankAccount():\n",
        "  def __init__(self,balance):\n",
        "    self.__balance = balance\n",
        "\n",
        "  def deposit(self,amount):\n",
        "    if amount >0:\n",
        "      self.__balance += amount\n",
        "\n",
        "  def get_balance(self):\n",
        "    return self.__balance\n",
        "\n",
        "account = BankAccount(1000)\n",
        "account.deposit(500)\n",
        "print(account.get_balance())"
      ],
      "metadata": {
        "colab": {
          "base_uri": "https://localhost:8080/"
        },
        "id": "NPue3jJ7szcr",
        "outputId": "3018f7ed-404a-424d-be49-fe6ef00939b4"
      },
      "execution_count": 2,
      "outputs": [
        {
          "output_type": "stream",
          "name": "stdout",
          "text": [
            "1500\n"
          ]
        }
      ]
    },
    {
      "cell_type": "code",
      "source": [
        "class Student:\n",
        "    def __init__(self, name, age):\n",
        "        self.name = name         # Public\n",
        "        self.__age = age         # Private\n",
        "\n",
        "    # Getter method for private variable\n",
        "    def get_age(self):\n",
        "        return self.__age\n",
        "\n",
        "    # Setter method for private variable\n",
        "    def set_age(self, new_age):\n",
        "        if new_age > 0:\n",
        "            self.__age = new_age\n",
        "        else:\n",
        "            print(\"Age must be positive.\")\n",
        "\n",
        "# Creating object\n",
        "s1 = Student(\"Vikas\", 21)\n",
        "\n",
        "# Accessing public variable\n",
        "print(\"Name:\", s1.name)  # ✅\n",
        "\n",
        "# Accessing private variable directly (will fail)\n",
        "# print(s1.__age)  ❌ AttributeError\n",
        "\n",
        "# Accessing private variable through getter\n",
        "print(\"Age:\", s1.get_age())  # ✅\n",
        "\n",
        "# Changing private variable through setter\n",
        "s1.set_age(25)\n",
        "print(\"Updated Age:\", s1.get_age())\n",
        "\n",
        "# Trying to set invalid age\n",
        "s1.set_age(-5)  # ❌ Age must be positive\n"
      ],
      "metadata": {
        "colab": {
          "base_uri": "https://localhost:8080/"
        },
        "id": "89fsGxfotf9F",
        "outputId": "34c326db-9ae8-427a-9e66-63dbdce1ddef"
      },
      "execution_count": 4,
      "outputs": [
        {
          "output_type": "stream",
          "name": "stdout",
          "text": [
            "Name: Vikas\n",
            "Age: 21\n",
            "Updated Age: 25\n",
            "Age must be positive.\n"
          ]
        }
      ]
    },
    {
      "cell_type": "code",
      "source": [
        "# Abstraction\n",
        "# Abstraction means showing only essential features and hiding unnecessary details from the user."
      ],
      "metadata": {
        "id": "pqoq1tpyugOb"
      },
      "execution_count": 5,
      "outputs": []
    },
    {
      "cell_type": "code",
      "source": [
        "from abc import ABC, abstractmethod\n",
        "\n",
        "class Animal(ABC):\n",
        "  # Abstract class\n",
        "  @abstractmethod\n",
        "  def sound(self):\n",
        "    pass\n",
        "\n",
        "class Dog(Animal):\n",
        "  def sound(self):\n",
        "    print(\"Woof Woof!\")\n",
        "\n",
        "class Cat(Animal):\n",
        "  def sound(self):\n",
        "    print(\"Meow Meow!\")\n",
        "\n",
        "def animal_sound(animal):\n",
        "  animal.sound()\n",
        "\n",
        "dog = Dog()\n",
        "cat = Cat()\n",
        "\n",
        "animal_sound(dog)\n",
        "animal_sound(cat)"
      ],
      "metadata": {
        "colab": {
          "base_uri": "https://localhost:8080/"
        },
        "id": "-gvyaxlQwEsp",
        "outputId": "da282d31-ae3e-41de-ea4d-5b8aa3683850"
      },
      "execution_count": 10,
      "outputs": [
        {
          "output_type": "stream",
          "name": "stdout",
          "text": [
            "Woof Woof!\n",
            "Meow Meow!\n"
          ]
        }
      ]
    },
    {
      "cell_type": "code",
      "source": [
        "from abc import ABC, abstractmethod\n",
        "class Bankapp(ABC):\n",
        "\n",
        "  def database(self):\n",
        "    print(\"connected to database\")\n",
        "\n",
        "  @abstractmethod\n",
        "  def security(self):\n",
        "    pass\n"
      ],
      "metadata": {
        "id": "U4FV_hhk_R2d"
      },
      "execution_count": 24,
      "outputs": []
    },
    {
      "cell_type": "code",
      "source": [
        "class MobileApp(Bankapp):\n",
        "  def mobile_login(self):\n",
        "    print(\"login into mobile\")\n",
        "\n",
        "  def security(self):\n",
        "    print(\"mobile security\")"
      ],
      "metadata": {
        "id": "Azmitt88JsKK"
      },
      "execution_count": 25,
      "outputs": []
    },
    {
      "cell_type": "code",
      "source": [
        "mob = MobileApp()\n",
        "mob.database()\n",
        "mob.mobile_login()\n",
        "mob.security()\n"
      ],
      "metadata": {
        "colab": {
          "base_uri": "https://localhost:8080/"
        },
        "id": "fiiLeFOyKmEq",
        "outputId": "94016acf-987c-4fe5-9805-cba627587d26"
      },
      "execution_count": 26,
      "outputs": [
        {
          "output_type": "stream",
          "name": "stdout",
          "text": [
            "connected to database\n",
            "login into mobile\n",
            "mobile security\n"
          ]
        }
      ]
    },
    {
      "cell_type": "code",
      "source": [],
      "metadata": {
        "id": "gJgWCDmmKom4"
      },
      "execution_count": 26,
      "outputs": []
    },
    {
      "cell_type": "markdown",
      "source": [
        "\n",
        "\n",
        "```\n",
        "Polymorphism means “many forms”. In object-oriented programming, it refers to the ability of different classes to be treated as instances of the same class through a shared interface. More practically, it means the same method name can behave differently based on the object calling it. **bold text**```\n",
        "\n",
        "\n",
        "Types of Polymorphism in Python\n",
        "Compile-time Polymorphism (Method Overloading)\n",
        "\n",
        "Run-time Polymorphism (Method Overriding)\n",
        "\n",
        "\n"
      ],
      "metadata": {
        "id": "nTWADebFMufT"
      }
    },
    {
      "cell_type": "code",
      "source": [
        "#Method Overloading (Compile-time Polymorphism)\n",
        "\n",
        "class Math:\n",
        "  def add(self,a,b=0, c=0):\n",
        "    return a+b+c\n",
        "\n",
        "m = Math()\n",
        "print(m.add(2))\n",
        "print(m.add(2,3))\n",
        "print(m.add(2,3,4))"
      ],
      "metadata": {
        "colab": {
          "base_uri": "https://localhost:8080/"
        },
        "id": "fvH9yiz2Mz9T",
        "outputId": "9a704c5a-c878-42ac-9bbd-f74785b6e303"
      },
      "execution_count": 27,
      "outputs": [
        {
          "output_type": "stream",
          "name": "stdout",
          "text": [
            "2\n",
            "5\n",
            "9\n"
          ]
        }
      ]
    },
    {
      "cell_type": "code",
      "source": [
        "#2️ Method Overriding (Run-time Polymorphism)\n",
        "\n",
        "class Bird:\n",
        "    def sound(self):\n",
        "        print(\"Birds chirp\")\n",
        "\n",
        "class Parrot(Bird):\n",
        "    def sound(self):\n",
        "        print(\"Parrots talk\")\n",
        "\n",
        "b = Bird()\n",
        "p = Parrot()\n",
        "\n",
        "b.sound()  # Birds chirp\n",
        "p.sound()  # Parrots talk\n",
        "\n"
      ],
      "metadata": {
        "colab": {
          "base_uri": "https://localhost:8080/"
        },
        "id": "PTkbm-6pNSJ-",
        "outputId": "85285179-6fae-4c49-bbf5-87dd7dea9f7e"
      },
      "execution_count": 28,
      "outputs": [
        {
          "output_type": "stream",
          "name": "stdout",
          "text": [
            "Birds chirp\n",
            "Parrots talk\n"
          ]
        }
      ]
    },
    {
      "cell_type": "code",
      "source": [
        "class Book:\n",
        "    def __init__(self, pages):\n",
        "        self.pages = pages\n",
        "\n",
        "    def __add__(self, other):\n",
        "        return self.pages + other.pages\n",
        "\n",
        "b1 = Book(100)\n",
        "b2 = Book(200)\n",
        "\n",
        "print(b1 + b2)  # 300\n"
      ],
      "metadata": {
        "colab": {
          "base_uri": "https://localhost:8080/"
        },
        "id": "FsztLEp6Nb9o",
        "outputId": "270ecc12-73c8-464e-ec02-cc1a93a9a9e0"
      },
      "execution_count": 29,
      "outputs": [
        {
          "output_type": "stream",
          "name": "stdout",
          "text": [
            "300\n"
          ]
        }
      ]
    },
    {
      "cell_type": "code",
      "source": [
        "class Dog:\n",
        "    def speak(self):\n",
        "        print(\"Bark\")\n",
        "\n",
        "class Cat:\n",
        "    def speak(self):\n",
        "        print(\"Meow\")\n",
        "\n",
        "def animal_sound(animal):\n",
        "    animal.speak()\n",
        "\n",
        "d = Dog()\n",
        "c = Cat()\n",
        "\n",
        "animal_sound(d)  # Bark\n",
        "animal_sound(c)  # Meow\n"
      ],
      "metadata": {
        "colab": {
          "base_uri": "https://localhost:8080/"
        },
        "id": "e25HcCtsNmSY",
        "outputId": "62ced7b3-eb9d-4041-d8aa-55a961c55ebb"
      },
      "execution_count": 30,
      "outputs": [
        {
          "output_type": "stream",
          "name": "stdout",
          "text": [
            "Bark\n",
            "Meow\n"
          ]
        }
      ]
    },
    {
      "cell_type": "code",
      "source": [],
      "metadata": {
        "id": "ZKrQ0liFNqjs"
      },
      "execution_count": null,
      "outputs": []
    },
    {
      "cell_type": "markdown",
      "source": [
        "Type\tDescription\tKey Feature\n",
        "Method Overloading\tSame method name, different parameters\tSimulated in Python\n",
        "Method Overriding\tSubclass redefines a parent class method\tInheritance-based\n",
        "Operator Overloading\tCustom behavior for operators like +\tMagic methods like __add__\n",
        "Duck Typing\tType doesn't matter if behavior matches\tNo inheritance needed"
      ],
      "metadata": {
        "id": "eP3qNr-XNuqD"
      }
    },
    {
      "cell_type": "code",
      "source": [],
      "metadata": {
        "id": "G6lGIRC6Nvf4"
      },
      "execution_count": null,
      "outputs": []
    }
  ]
}