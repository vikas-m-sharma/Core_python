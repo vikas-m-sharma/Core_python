{
  "nbformat": 4,
  "nbformat_minor": 0,
  "metadata": {
    "colab": {
      "provenance": [],
      "authorship_tag": "ABX9TyOQp3x2MIhPUgbAv9bFBDE5",
      "include_colab_link": true
    },
    "kernelspec": {
      "name": "python3",
      "display_name": "Python 3"
    },
    "language_info": {
      "name": "python"
    }
  },
  "cells": [
    {
      "cell_type": "markdown",
      "metadata": {
        "id": "view-in-github",
        "colab_type": "text"
      },
      "source": [
        "<a href=\"https://colab.research.google.com/github/vikas-m-sharma/Core_python/blob/main/Function.ipynb\" target=\"_parent\"><img src=\"https://colab.research.google.com/assets/colab-badge.svg\" alt=\"Open In Colab\"/></a>"
      ]
    },
    {
      "cell_type": "code",
      "execution_count": null,
      "metadata": {
        "colab": {
          "base_uri": "https://localhost:8080/"
        },
        "id": "dl8vZ8JZ9g8D",
        "outputId": "9cc46c01-c9ad-492c-a791-71aa4cf71c42"
      },
      "outputs": [
        {
          "output_type": "stream",
          "name": "stdout",
          "text": [
            "None\n"
          ]
        }
      ],
      "source": [
        "# Return statement :-\n",
        "\n",
        "def add (y):\n",
        "  c= 20\n",
        "  b = c+y\n",
        "result = add(30)\n",
        "print(result)\n",
        "\n"
      ]
    },
    {
      "cell_type": "code",
      "source": [
        "# Area of a Circle\n",
        "\n",
        "def area_of_circle():\n",
        "  return 3.14 *radius * radius\n",
        "\n",
        "result = area_of_circle(23)\n",
        "print(\"area:\",result )\n",
        "\n"
      ],
      "metadata": {
        "colab": {
          "base_uri": "https://localhost:8080/"
        },
        "id": "tWz3BeiG-czc",
        "outputId": "da73314a-d2c2-4b42-847e-1d58111201f6"
      },
      "execution_count": null,
      "outputs": [
        {
          "output_type": "stream",
          "name": "stdout",
          "text": [
            "area: 1661.06\n"
          ]
        }
      ]
    },
    {
      "cell_type": "code",
      "source": [
        "#Write a function that takes a number and returns \"Even\" or \"Odd\".\n",
        "\n",
        "\n",
        "def even_odd():\n",
        "  a = int(input(\"Enter a number \"))\n",
        "  if a %2 ==0:\n",
        "    print(\"Even \")\n",
        "  else:\n",
        "    print(\"odd\")\n",
        "even_odd()"
      ],
      "metadata": {
        "id": "lOHEG-qw_nuz",
        "colab": {
          "base_uri": "https://localhost:8080/"
        },
        "outputId": "d2aa0240-37eb-4b00-d0eb-6014ff16ca4d"
      },
      "execution_count": null,
      "outputs": [
        {
          "output_type": "stream",
          "name": "stdout",
          "text": [
            "Enter a number 567\n",
            "odd\n"
          ]
        }
      ]
    },
    {
      "cell_type": "code",
      "source": [
        "def interest(p,r,t):\n",
        "  return p *r* t / 100\n",
        "\n",
        "p = 303453\n",
        "r =12.2\n",
        "t = 5\n",
        "\n",
        "result = interest(p,r,t)\n",
        "print(\"interest:\", result)"
      ],
      "metadata": {
        "id": "FgEWCniFCbns",
        "colab": {
          "base_uri": "https://localhost:8080/"
        },
        "outputId": "8a161336-147e-4ffb-d676-db0b889a48ea"
      },
      "execution_count": null,
      "outputs": [
        {
          "output_type": "stream",
          "name": "stdout",
          "text": [
            "interest: 185106.33\n"
          ]
        }
      ]
    },
    {
      "cell_type": "code",
      "source": [
        "# Create a function that takes two numbers and returns the greater one.\n",
        "\n"
      ],
      "metadata": {
        "id": "PMvwL48eDBGW"
      },
      "execution_count": null,
      "outputs": []
    },
    {
      "cell_type": "code",
      "metadata": {
        "id": "f4dad36b",
        "colab": {
          "base_uri": "https://localhost:8080/"
        },
        "outputId": "fd3409dc-6945-492a-83aa-751948a68721"
      },
      "source": [
        "# Create a function that takes two numbers and returns the greater one.\n",
        "\n",
        "def find_greater(num1, num2):\n",
        "  \"\"\"\n",
        "  This function takes two numbers and returns the greater one.\n",
        "\n",
        "  Args:\n",
        "    num1: The first number.\n",
        "    num2: The second number.\n",
        "\n",
        "  Returns:\n",
        "    The greater of the two numbers.\n",
        "  \"\"\"\n",
        "  if num1 > num2:\n",
        "    return num1\n",
        "  else:\n",
        "    return num2\n",
        "\n",
        "# Example usage:\n",
        "number1 = 15\n",
        "number2 = 28\n",
        "greater_number = find_greater(number1, number2)\n",
        "print(f\"The greater number between {number1} and {number2} is: {greater_number}\")\n",
        "\n",
        "number3 = 100\n",
        "number4 = 50\n",
        "greater_number = find_greater(number3, number4)\n",
        "print(f\"The greater number between {number3} and {number4} is: {greater_number}\")"
      ],
      "execution_count": null,
      "outputs": [
        {
          "output_type": "stream",
          "name": "stdout",
          "text": [
            "The greater number between 15 and 28 is: 28\n",
            "The greater number between 100 and 50 is: 100\n"
          ]
        }
      ]
    },
    {
      "cell_type": "code",
      "source": [
        "# Write a function that takes age and returns:\n",
        "\n",
        " # \"Eligible to vote\" if age ≥ 18\n",
        "\n",
        "# \"Not eligible\" otherwise\n",
        "\n",
        "def eligibility(age):\n",
        "  if age >= 18:\n",
        "    return \"eligible for voting \"\n",
        "\n",
        "  else:\n",
        "    return \"not eligible for voting\"\n",
        "\n",
        "\n",
        "\n"
      ],
      "metadata": {
        "id": "116nF1IRDqoD"
      },
      "execution_count": null,
      "outputs": []
    },
    {
      "cell_type": "code",
      "source": [
        "# Write a function sum_n(n) that returns the sum of first n natural numbers.\n",
        "\n",
        "def sum_n(n):\n",
        "  \"\"\"\n",
        "  This function calculates the sum of the first n natural numbers.\n",
        "\n",
        "  Args:\n",
        "    n: The number of natural numbers to sum.\n",
        "\n",
        "  Returns:\n",
        "    The sum of the first n natural numbers.\n",
        "  \"\"\"\n",
        "  return n * (n + 1) // 2\n",
        "\n",
        "# Example usage:\n",
        "num = 10\n",
        "sum_of_numbers = sum_n(num)\n",
        "print(f\"The sum of the first {num} natural numbers is: {sum_of_numbers}\")\n",
        "\n",
        "num = 5\n",
        "sum_of_numbers = sum_n(num)\n",
        "print(f\"The sum of the first {num} natural numbers is: {sum_of_numbers}\")"
      ],
      "metadata": {
        "id": "6Oe6QbcXERY-"
      },
      "execution_count": null,
      "outputs": []
    },
    {
      "cell_type": "code",
      "source": [
        "def area_of_traingle(r):\n",
        "  pi = 3.14\n",
        "  return pi *r**r\n",
        "\n",
        "result = area_of_traingle(10)\n",
        "print(result)"
      ],
      "metadata": {
        "id": "fc0SpF2cPpOs"
      },
      "execution_count": null,
      "outputs": []
    },
    {
      "cell_type": "code",
      "source": [],
      "metadata": {
        "id": "7D5BwpTTQGzp"
      },
      "execution_count": null,
      "outputs": []
    },
    {
      "cell_type": "code",
      "metadata": {
        "id": "642e023a"
      },
      "source": [
        "def area_of_triangle(base, height):\n",
        "  \"\"\"\n",
        "  This function calculates the area of a triangle.\n",
        "\n",
        "  Args:\n",
        "    base: The base of the triangle.\n",
        "    height: The height of the triangle.\n",
        "\n",
        "  Returns:\n",
        "    The area of the triangle.\n",
        "  \"\"\"\n",
        "  return 0.5 * base * height\n",
        "\n",
        "# Example usage:\n",
        "base = 10\n",
        "height = 5\n",
        "area = area_of_triangle(base, height)\n",
        "print(f\"The area of the triangle with base {base} and height {height} is: {area}\")"
      ],
      "execution_count": null,
      "outputs": []
    },
    {
      "cell_type": "code",
      "source": [
        "# Write a function that takes a number n and returns the first n Fibonacci numbers.\n",
        "\n"
      ],
      "metadata": {
        "id": "U7IwPo3gQW5D"
      },
      "execution_count": null,
      "outputs": []
    },
    {
      "cell_type": "code",
      "metadata": {
        "id": "699cd1e7"
      },
      "source": [
        "def fibonacci_sequence(n):\n",
        "  \"\"\"\n",
        "  This function generates the first n Fibonacci numbers.\n",
        "\n",
        "  Args:\n",
        "    n: The number of Fibonacci numbers to generate.\n",
        "\n",
        "  Returns:\n",
        "    A list containing the first n Fibonacci numbers.\n",
        "  \"\"\"\n",
        "  if n <= 0:\n",
        "    return []\n",
        "  elif n == 1:\n",
        "    return [0]\n",
        "  else:\n",
        "    fib_sequence = [0, 1]\n",
        "    while len(fib_sequence) < n:\n",
        "      next_fib = fib_sequence[-1] + fib_sequence[-2]\n",
        "      fib_sequence.append(next_fib)\n",
        "    return fib_sequence\n",
        "\n",
        "# Example usage:\n",
        "num_fibonacci = 10\n",
        "fib_numbers = fibonacci_sequence(num_fibonacci)\n",
        "print(f\"The first {num_fibonacci} Fibonacci numbers are: {fib_numbers}\")\n",
        "\n",
        "num_fibonacci = 5\n",
        "fib_numbers = fibonacci_sequence(num_fibonacci)\n",
        "print(f\"The first {num_fibonacci} Fibonacci numbers are: {fib_numbers}\")"
      ],
      "execution_count": null,
      "outputs": []
    },
    {
      "cell_type": "code",
      "source": [
        "# Write a function that takes a string and returns True if it's a palindrome, else False.\n",
        "\n"
      ],
      "metadata": {
        "id": "oCj68491Qwbl"
      },
      "execution_count": null,
      "outputs": []
    },
    {
      "cell_type": "code",
      "metadata": {
        "id": "1a68d135"
      },
      "source": [
        "def is_palindrome(s):\n",
        "  \"\"\"\n",
        "  Checks if a string is a palindrome.\n",
        "\n",
        "  Args:\n",
        "    s: The input string.\n",
        "\n",
        "  Returns:\n",
        "    True if the string is a palindrome, False otherwise.\n",
        "  \"\"\"\n",
        "  # Remove spaces and convert to lowercase for case-insensitive check\n",
        "  s = s.replace(\" \", \"\").lower()\n",
        "  return s == s[::-1]\n",
        "\n",
        "# Example usage:\n",
        "string1 = \"racecar\"\n",
        "print(f\"'{string1}' is a palindrome: {is_palindrome(string1)}\")\n",
        "\n",
        "string2 = \"hello\"\n",
        "print(f\"'{string2}' is a palindrome: {is_palindrome(string2)}\")\n",
        "\n",
        "string3 = \"A man a plan a canal Panama\"\n",
        "print(f\"'{string3}' is a palindrome: {is_palindrome(string3)}\")"
      ],
      "execution_count": null,
      "outputs": []
    },
    {
      "cell_type": "code",
      "source": [
        "#Write a function calculator(a, b, operator) that takes two numbers and an operator ('+', '-', '*', '/') and returns the result."
      ],
      "metadata": {
        "id": "2eo6Wnc8RJwh"
      },
      "execution_count": null,
      "outputs": []
    },
    {
      "cell_type": "code",
      "metadata": {
        "id": "96fa4002"
      },
      "source": [
        "def calculator(a, b, operator):\n",
        "  \"\"\"\n",
        "  This function performs a calculation based on the given operator.\n",
        "\n",
        "  Args:\n",
        "    a: The first number.\n",
        "    b: The second number.\n",
        "    operator: The operator ('+', '-', '*', '/').\n",
        "\n",
        "  Returns:\n",
        "    The result of the calculation, or a string indicating an invalid operator.\n",
        "  \"\"\"\n",
        "  if operator == '+':\n",
        "    return a + b\n",
        "  elif operator == '-':\n",
        "    return a - b\n",
        "  elif operator == '*':\n",
        "    return a * b\n",
        "  elif operator == '/':\n",
        "    if b != 0:\n",
        "      return a / b\n",
        "    else:\n",
        "      return \"Error: Division by zero\"\n",
        "  else:\n",
        "    return \"Error: Invalid operator\"\n",
        "\n",
        "# Example usage:\n",
        "print(calculator(10, 5, '+'))\n",
        "print(calculator(10, 5, '-'))\n",
        "print(calculator(10, 5, '*'))\n",
        "print(calculator(10, 5, '/'))\n",
        "print(calculator(10, 0, '/'))\n",
        "print(calculator(10, 5, '%'))"
      ],
      "execution_count": null,
      "outputs": []
    },
    {
      "cell_type": "code",
      "source": [
        "#Write a function to check whether a number is prime or not.\n",
        "\n"
      ],
      "metadata": {
        "id": "jj0x5QIeRV5l"
      },
      "execution_count": null,
      "outputs": []
    },
    {
      "cell_type": "code",
      "metadata": {
        "id": "fb964b16"
      },
      "source": [
        "def is_prime(num):\n",
        "  \"\"\"\n",
        "  Checks if a number is prime.\n",
        "\n",
        "  Args:\n",
        "    num: The number to check.\n",
        "\n",
        "  Returns:\n",
        "    True if the number is prime, False otherwise.\n",
        "  \"\"\"\n",
        "  if num <= 1:\n",
        "    return False # Numbers less than or equal to 1 are not prime\n",
        "  for i in range(2, int(num**0.5) + 1):\n",
        "    if num % i == 0:\n",
        "      return False # Found a divisor, so not prime\n",
        "  return True # No divisors found, so prime\n",
        "\n",
        "# Example usage:\n",
        "print(f\"Is 7 prime? {is_prime(7)}\")\n",
        "print(f\"Is 10 prime? {is_prime(10)}\")\n",
        "print(f\"Is 1 prime? {is_prime(1)}\")\n",
        "print(f\"Is 2 prime? {is_prime(2)}\")"
      ],
      "execution_count": null,
      "outputs": []
    },
    {
      "cell_type": "code",
      "source": [
        "def greet_user(name):\n",
        "    def get_message():\n",
        "        return \"Hello\"\n",
        "\n",
        "    message = get_message()\n",
        "    return f\"{message}, {name}!\"\n",
        "\n",
        "print(greet_user(\"Vikas\"))\n"
      ],
      "metadata": {
        "id": "ellFrC1bRht0",
        "colab": {
          "base_uri": "https://localhost:8080/"
        },
        "outputId": "51fcdd0c-9261-4b93-8d68-0a774e9f754a"
      },
      "execution_count": null,
      "outputs": [
        {
          "output_type": "stream",
          "name": "stdout",
          "text": [
            "Hello, Vikas!\n"
          ]
        }
      ]
    },
    {
      "cell_type": "code",
      "source": [
        "#nested function\n",
        "\n",
        "def calculator(a, b):\n",
        "    def add():\n",
        "        return a + b\n",
        "\n",
        "    def subtract():\n",
        "        return a - b\n",
        "\n",
        "    def multiply():\n",
        "        return a * b\n",
        "\n",
        "    return add(), subtract(), multiply()\n",
        "\n",
        "add_result, sub_result, mul_result = calculator(10, 5)\n",
        "print(\"Add:\", add_result)\n",
        "print(\"Subtract:\", sub_result)\n",
        "print(\"Multiply:\", mul_result)\n",
        "\n"
      ],
      "metadata": {
        "colab": {
          "base_uri": "https://localhost:8080/"
        },
        "id": "UzhEQhjHYrED",
        "outputId": "25d079b8-4e5c-4cd5-d901-d7926a855024"
      },
      "execution_count": null,
      "outputs": [
        {
          "output_type": "stream",
          "name": "stdout",
          "text": [
            "Add: 15\n",
            "Subtract: 5\n",
            "Multiply: 50\n"
          ]
        }
      ]
    },
    {
      "cell_type": "code",
      "source": [
        "# Anonymous Function (Lambda Function )not use def"
      ],
      "metadata": {
        "id": "eFs7Zy1sY1Qs"
      },
      "execution_count": 1,
      "outputs": []
    },
    {
      "cell_type": "code",
      "source": [
        "square = lambda x: x * x\n",
        "print(square(5))  # Output: 25\n"
      ],
      "metadata": {
        "colab": {
          "base_uri": "https://localhost:8080/"
        },
        "id": "-H8yXMpcQOOZ",
        "outputId": "af1ad42a-9ab0-4c48-a9ac-ff82a7175150"
      },
      "execution_count": 4,
      "outputs": [
        {
          "output_type": "stream",
          "name": "stdout",
          "text": [
            "25\n"
          ]
        }
      ]
    },
    {
      "cell_type": "code",
      "source": [
        "add = lambda a, b: a + b\n",
        "print(add(10, 15))  # Output: 25\n"
      ],
      "metadata": {
        "colab": {
          "base_uri": "https://localhost:8080/"
        },
        "id": "urdJeuquRxhv",
        "outputId": "52171ff5-231c-4640-f4e9-da1583903f94"
      },
      "execution_count": 6,
      "outputs": [
        {
          "output_type": "stream",
          "name": "stdout",
          "text": [
            "25\n"
          ]
        }
      ]
    },
    {
      "cell_type": "code",
      "source": [
        "students = [(\"Ram\", 85), (\"Shyam\", 92), (\"Mina\", 78)]\n",
        "\n",
        "# Sort by marks using lambda\n",
        "sorted_students = sorted(students, key=lambda x: x[1], reverse=True)\n",
        "print(sorted_students)\n"
      ],
      "metadata": {
        "colab": {
          "base_uri": "https://localhost:8080/"
        },
        "id": "xKATN54oR0_-",
        "outputId": "f2a81317-981c-4d53-899f-60adc3b8b60d"
      },
      "execution_count": 7,
      "outputs": [
        {
          "output_type": "stream",
          "name": "stdout",
          "text": [
            "[('Shyam', 92), ('Ram', 85), ('Mina', 78)]\n"
          ]
        }
      ]
    },
    {
      "cell_type": "code",
      "source": [
        "numbers = [1, 2, 3, 4]\n",
        "\n",
        "squares = list(map(lambda x: x * x, numbers))\n",
        "print(squares)  # Output: [1, 4, 9, 16]\n"
      ],
      "metadata": {
        "colab": {
          "base_uri": "https://localhost:8080/"
        },
        "id": "u0OXse0TR1lL",
        "outputId": "7876aac8-3856-46a3-b752-1b2da56ef6f4"
      },
      "execution_count": 8,
      "outputs": [
        {
          "output_type": "stream",
          "name": "stdout",
          "text": [
            "[1, 4, 9, 16]\n"
          ]
        }
      ]
    },
    {
      "cell_type": "code",
      "source": [],
      "metadata": {
        "id": "yPzwOh3aR3zj"
      },
      "execution_count": null,
      "outputs": []
    }
  ]
}