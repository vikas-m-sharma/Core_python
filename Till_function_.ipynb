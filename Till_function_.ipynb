{
  "cells": [
    {
      "cell_type": "markdown",
      "metadata": {
        "id": "view-in-github",
        "colab_type": "text"
      },
      "source": [
        "<a href=\"https://colab.research.google.com/github/vikas-m-sharma/Core_python/blob/main/Till_function_.ipynb\" target=\"_parent\"><img src=\"https://colab.research.google.com/assets/colab-badge.svg\" alt=\"Open In Colab\"/></a>"
      ]
    },
    {
      "cell_type": "code",
      "execution_count": null,
      "metadata": {
        "id": "GX5xG7zYEmoW"
      },
      "outputs": [],
      "source": [
        "# prompt: tuple\n",
        "\n",
        "my_tuple = (1, 2, 3, 'a', 'b')"
      ]
    },
    {
      "cell_type": "code",
      "execution_count": null,
      "metadata": {
        "id": "OM023eSHPLUe"
      },
      "outputs": [],
      "source": [
        "# Tuple are immutable and store heterogenous of element"
      ]
    },
    {
      "cell_type": "code",
      "execution_count": null,
      "metadata": {
        "colab": {
          "base_uri": "https://localhost:8080/"
        },
        "id": "GPeZCiPOPbfG",
        "outputId": "1640804c-a89f-4248-81af-487ed467979a"
      },
      "outputs": [
        {
          "data": {
            "text/plain": [
              "(1, 2, 3, 'a', 'b', True)"
            ]
          },
          "execution_count": 6,
          "metadata": {},
          "output_type": "execute_result"
        }
      ],
      "source": [
        "my_tuple = (1, 2, 3, 'a', 'b', True)\n",
        "my_tuple"
      ]
    },
    {
      "cell_type": "code",
      "execution_count": null,
      "metadata": {
        "colab": {
          "base_uri": "https://localhost:8080/"
        },
        "id": "71hASoI-PgsO",
        "outputId": "733ba3ca-01b1-4ceb-bad2-2b1ffda2ff2b"
      },
      "outputs": [
        {
          "data": {
            "text/plain": [
              "6"
            ]
          },
          "execution_count": 7,
          "metadata": {},
          "output_type": "execute_result"
        }
      ],
      "source": [
        "len(my_tuple)"
      ]
    },
    {
      "cell_type": "code",
      "execution_count": null,
      "metadata": {
        "colab": {
          "base_uri": "https://localhost:8080/"
        },
        "id": "MIVyu5e6Pnqf",
        "outputId": "a6eb182c-9191-46dd-9caf-f7e9c6d4819f"
      },
      "outputs": [
        {
          "data": {
            "text/plain": [
              "2"
            ]
          },
          "execution_count": 11,
          "metadata": {},
          "output_type": "execute_result"
        }
      ],
      "source": [
        "my_tuple[1]"
      ]
    },
    {
      "cell_type": "code",
      "execution_count": null,
      "metadata": {
        "colab": {
          "base_uri": "https://localhost:8080/"
        },
        "id": "loHEuPfoPrsA",
        "outputId": "0f6db66c-1897-48a7-ce33-7efd2eb5b61b"
      },
      "outputs": [
        {
          "data": {
            "text/plain": [
              "(1, 2)"
            ]
          },
          "execution_count": 12,
          "metadata": {},
          "output_type": "execute_result"
        }
      ],
      "source": [
        "my_tuple[0:2]"
      ]
    },
    {
      "cell_type": "code",
      "execution_count": null,
      "metadata": {
        "colab": {
          "base_uri": "https://localhost:8080/"
        },
        "id": "aptKJde_P34A",
        "outputId": "3c558f6a-88e4-49e6-ce7b-cbac01ade62a"
      },
      "outputs": [
        {
          "data": {
            "text/plain": [
              "(True,)"
            ]
          },
          "execution_count": 17,
          "metadata": {},
          "output_type": "execute_result"
        }
      ],
      "source": [
        "my_tuple[-1:]"
      ]
    },
    {
      "cell_type": "code",
      "execution_count": null,
      "metadata": {
        "colab": {
          "base_uri": "https://localhost:8080/",
          "height": 36
        },
        "id": "zTD1qYyRQUtO",
        "outputId": "c4ed9863-5d3c-40ce-bf85-3efdd1be021a"
      },
      "outputs": [
        {
          "data": {
            "application/vnd.google.colaboratory.intrinsic+json": {
              "type": "string"
            },
            "text/plain": [
              "'y'"
            ]
          },
          "execution_count": 23,
          "metadata": {},
          "output_type": "execute_result"
        }
      ],
      "source": [
        "max('my_tuple')"
      ]
    },
    {
      "cell_type": "code",
      "execution_count": null,
      "metadata": {
        "colab": {
          "base_uri": "https://localhost:8080/"
        },
        "id": "1iBlU4jPQpx2",
        "outputId": "1860ee33-7520-495e-f32a-d7cfa5691284"
      },
      "outputs": [
        {
          "data": {
            "text/plain": [
              "((1, 23, 34), (23, 4, 45))"
            ]
          },
          "execution_count": 24,
          "metadata": {},
          "output_type": "execute_result"
        }
      ],
      "source": [
        "tup1 =(1,23,34,)\n",
        "tup2 = (23,4,45)\n",
        "tup1,tup2"
      ]
    },
    {
      "cell_type": "code",
      "execution_count": null,
      "metadata": {
        "colab": {
          "base_uri": "https://localhost:8080/"
        },
        "id": "K3d9vC-8Q7nP",
        "outputId": "f6521273-4e86-4695-978c-5e530976d4b5"
      },
      "outputs": [
        {
          "data": {
            "text/plain": [
              "(1, 23, 34, 23, 4, 45, 23, 4, 45, 1, 23, 34)"
            ]
          },
          "execution_count": 27,
          "metadata": {},
          "output_type": "execute_result"
        }
      ],
      "source": [
        "tup1+tup2*2+tup1 # Concatenating"
      ]
    },
    {
      "cell_type": "code",
      "execution_count": null,
      "metadata": {
        "colab": {
          "base_uri": "https://localhost:8080/"
        },
        "id": "01PedjmHQ_mS",
        "outputId": "c1f842ea-8a68-4bae-c3da-c0eb9cf0ddbe"
      },
      "outputs": [
        {
          "data": {
            "text/plain": [
              "34"
            ]
          },
          "execution_count": 28,
          "metadata": {},
          "output_type": "execute_result"
        }
      ],
      "source": [
        "max(tup1)"
      ]
    },
    {
      "cell_type": "code",
      "execution_count": null,
      "metadata": {
        "colab": {
          "base_uri": "https://localhost:8080/"
        },
        "id": "4majIZhmRd1B",
        "outputId": "23be8800-ab8c-48e2-acce-115d7f0b3130"
      },
      "outputs": [
        {
          "data": {
            "text/plain": [
              "4"
            ]
          },
          "execution_count": 29,
          "metadata": {},
          "output_type": "execute_result"
        }
      ],
      "source": [
        "min(tup2)"
      ]
    },
    {
      "cell_type": "code",
      "execution_count": null,
      "metadata": {
        "id": "d_6xgr0pRfQh"
      },
      "outputs": [],
      "source": [
        "#list\n",
        "# List is ordered collection of elements inclosed with [] and its mutable"
      ]
    },
    {
      "cell_type": "code",
      "execution_count": null,
      "metadata": {
        "id": "9gVuP3omRhYT"
      },
      "outputs": [],
      "source": [
        "l1 = [1,True, 23.23,\"raj \",\"apple\"]"
      ]
    },
    {
      "cell_type": "code",
      "execution_count": null,
      "metadata": {
        "colab": {
          "base_uri": "https://localhost:8080/"
        },
        "id": "Dd07IeyASBFF",
        "outputId": "b17fb90a-de34-47ff-8456-ba39c7c41148"
      },
      "outputs": [
        {
          "data": {
            "text/plain": [
              "[1, True, 23.23, 'raj ', 'apple']"
            ]
          },
          "execution_count": 34,
          "metadata": {},
          "output_type": "execute_result"
        }
      ],
      "source": [
        "l1"
      ]
    },
    {
      "cell_type": "code",
      "execution_count": null,
      "metadata": {
        "colab": {
          "base_uri": "https://localhost:8080/"
        },
        "id": "U1ZvJ7QTSBwn",
        "outputId": "781311d2-63a6-4e5c-daa4-5df2e01d8bf5"
      },
      "outputs": [
        {
          "data": {
            "text/plain": [
              "5"
            ]
          },
          "execution_count": 35,
          "metadata": {},
          "output_type": "execute_result"
        }
      ],
      "source": [
        "len(l1)"
      ]
    },
    {
      "cell_type": "code",
      "execution_count": null,
      "metadata": {
        "colab": {
          "base_uri": "https://localhost:8080/"
        },
        "id": "_8s5XF1-SHoK",
        "outputId": "533d4043-ae5b-42e6-9651-b89c71d7fc57"
      },
      "outputs": [
        {
          "data": {
            "text/plain": [
              "23.23"
            ]
          },
          "execution_count": 36,
          "metadata": {},
          "output_type": "execute_result"
        }
      ],
      "source": [
        "l1[2]"
      ]
    },
    {
      "cell_type": "code",
      "execution_count": null,
      "metadata": {
        "colab": {
          "base_uri": "https://localhost:8080/"
        },
        "id": "tCdkfUckSJPR",
        "outputId": "5c528ad6-0263-47f2-ca77-ba7fe8bac795"
      },
      "outputs": [
        {
          "data": {
            "text/plain": [
              "[True, 23.23, 'raj ', 'apple']"
            ]
          },
          "execution_count": 38,
          "metadata": {},
          "output_type": "execute_result"
        }
      ],
      "source": [
        "l1 [1:5]"
      ]
    },
    {
      "cell_type": "code",
      "execution_count": null,
      "metadata": {
        "colab": {
          "base_uri": "https://localhost:8080/",
          "height": 36
        },
        "id": "R7CzZ8VkSM7y",
        "outputId": "cf846221-b43a-4107-bfcb-d788ea4244ce"
      },
      "outputs": [
        {
          "data": {
            "application/vnd.google.colaboratory.intrinsic+json": {
              "type": "string"
            },
            "text/plain": [
              "'apple'"
            ]
          },
          "execution_count": 39,
          "metadata": {},
          "output_type": "execute_result"
        }
      ],
      "source": [
        "l1.pop()"
      ]
    },
    {
      "cell_type": "code",
      "execution_count": null,
      "metadata": {
        "id": "9VLDVdYKSQ4y"
      },
      "outputs": [],
      "source": [
        "l1.append(\"Kajal\")"
      ]
    },
    {
      "cell_type": "code",
      "execution_count": null,
      "metadata": {
        "colab": {
          "base_uri": "https://localhost:8080/"
        },
        "id": "InFQ8DCySTnK",
        "outputId": "8efb7be8-2cd9-4fba-86b7-975d469e338a"
      },
      "outputs": [
        {
          "data": {
            "text/plain": [
              "[1, True, 23.23, 'raj ', 'Kajal']"
            ]
          },
          "execution_count": 41,
          "metadata": {},
          "output_type": "execute_result"
        }
      ],
      "source": [
        "l1"
      ]
    },
    {
      "cell_type": "code",
      "execution_count": null,
      "metadata": {
        "colab": {
          "base_uri": "https://localhost:8080/"
        },
        "id": "h5f04cmsSUK9",
        "outputId": "b9de2bdc-6ae5-44ca-f25d-2ceef3c63491"
      },
      "outputs": [
        {
          "data": {
            "text/plain": [
              "[1, True, 23.23, 'raj ', 'Kajal', 1, True, 23.23, 'raj ', 'Kajal']"
            ]
          },
          "execution_count": 44,
          "metadata": {},
          "output_type": "execute_result"
        }
      ],
      "source": [
        "l1*2"
      ]
    },
    {
      "cell_type": "code",
      "execution_count": null,
      "metadata": {
        "colab": {
          "base_uri": "https://localhost:8080/"
        },
        "id": "l499cEhWSWr6",
        "outputId": "d5b9af0b-3180-4968-d657-cb5f2850682d"
      },
      "outputs": [
        {
          "data": {
            "text/plain": [
              "[1, True, 100, 'raj ', 'Kajal']"
            ]
          },
          "execution_count": 46,
          "metadata": {},
          "output_type": "execute_result"
        }
      ],
      "source": [
        "#change the values\n",
        "l1[2] = 100\n",
        "l1"
      ]
    },
    {
      "cell_type": "code",
      "execution_count": null,
      "metadata": {
        "id": "TIr9AGKfSlNB"
      },
      "outputs": [],
      "source": [
        "l1.reverse()"
      ]
    },
    {
      "cell_type": "code",
      "execution_count": null,
      "metadata": {
        "colab": {
          "base_uri": "https://localhost:8080/"
        },
        "id": "YDk-MDt3S50O",
        "outputId": "9f7bc566-dd65-42a1-bc5c-3c5757e0aa93"
      },
      "outputs": [
        {
          "data": {
            "text/plain": [
              "['Kajal', 'raj ', 100, True, 1]"
            ]
          },
          "execution_count": 49,
          "metadata": {},
          "output_type": "execute_result"
        }
      ],
      "source": [
        "l1"
      ]
    },
    {
      "cell_type": "code",
      "execution_count": null,
      "metadata": {
        "id": "7wnasZ8MS9To"
      },
      "outputs": [],
      "source": [
        "l1.insert(1,\"Vikas\")"
      ]
    },
    {
      "cell_type": "code",
      "execution_count": null,
      "metadata": {
        "colab": {
          "base_uri": "https://localhost:8080/"
        },
        "id": "1YknDxJoS_5u",
        "outputId": "b7eb4330-9b0c-4a4b-f28c-c29bdc9e2821"
      },
      "outputs": [
        {
          "data": {
            "text/plain": [
              "['Kajal', 'Vikas', 'raj ', 100, True, 1]"
            ]
          },
          "execution_count": 52,
          "metadata": {},
          "output_type": "execute_result"
        }
      ],
      "source": [
        "l1"
      ]
    },
    {
      "cell_type": "code",
      "execution_count": null,
      "metadata": {
        "id": "Zk9l-NPITF4H"
      },
      "outputs": [],
      "source": [
        "# Dictionary\n",
        "# It ordered collection of element stored data with key values pair"
      ]
    },
    {
      "cell_type": "code",
      "execution_count": null,
      "metadata": {
        "id": "Wrmm2UTMTIMe"
      },
      "outputs": [],
      "source": [
        "dict1 = {\"apple\":100,\"banana\":80,\"Mango\":50,\"pear\":60}"
      ]
    },
    {
      "cell_type": "code",
      "execution_count": null,
      "metadata": {
        "colab": {
          "base_uri": "https://localhost:8080/"
        },
        "id": "kEULsa_jTnF0",
        "outputId": "b65df749-f538-4d65-98ed-f03afa81bec1"
      },
      "outputs": [
        {
          "data": {
            "text/plain": [
              "{'apple': 100, 'banana': 80, 'Mango': 50, 'pear': 60}"
            ]
          },
          "execution_count": 56,
          "metadata": {},
          "output_type": "execute_result"
        }
      ],
      "source": [
        "dict1"
      ]
    },
    {
      "cell_type": "code",
      "execution_count": null,
      "metadata": {
        "colab": {
          "base_uri": "https://localhost:8080/"
        },
        "id": "c2byahP1ToU2",
        "outputId": "2a6670bb-be2e-4731-ce14-02d6a04623bd"
      },
      "outputs": [
        {
          "data": {
            "text/plain": [
              "dict"
            ]
          },
          "execution_count": 57,
          "metadata": {},
          "output_type": "execute_result"
        }
      ],
      "source": [
        "type(dict1)"
      ]
    },
    {
      "cell_type": "code",
      "execution_count": null,
      "metadata": {
        "colab": {
          "base_uri": "https://localhost:8080/"
        },
        "id": "dKNDua1JTqfQ",
        "outputId": "fa80250d-4430-43c9-fe9c-a15dfa9ba38a"
      },
      "outputs": [
        {
          "name": "stdout",
          "output_type": "stream",
          "text": [
            "dict_keys(['apple', 'Mango', 'pear', 'grape'])\n",
            "dict_values([100, 50, 60, 90])\n",
            "dict_items([('apple', 100), ('Mango', 50), ('pear', 60), ('grape', 90)])\n",
            "100\n",
            "{'apple': 100, 'Mango': 50, 'pear': 60, 'grape': 90}\n",
            "{'apple': 100, 'Mango': 50, 'pear': 60, 'grape': 90}\n"
          ]
        },
        {
          "data": {
            "text/plain": [
              "{'a': 0, 'b': 0, 'c': 0}"
            ]
          },
          "execution_count": 60,
          "metadata": {},
          "output_type": "execute_result"
        }
      ],
      "source": [
        "# prompt: what are the different function in dict\n",
        "\n",
        "# Get all keys\n",
        "print(dict1.keys())\n",
        "\n",
        "# Get all values\n",
        "print(dict1.values())\n",
        "\n",
        "print(dict1.items())\n",
        "\n",
        "# Get value by key\n",
        "print(dict1.get(\"apple\"))\n",
        "\n",
        "\n",
        "# Add or update an item\n",
        "dict1.update({\"grape\": 90})\n",
        "print(dict1)\n",
        "\n",
        "# Copy the dictionary\n",
        "dict2 = dict1.copy()\n",
        "print(dict2)\n",
        "\n",
        "# Create a dictionary from keys with a default value\n",
        "keys = [\"a\", \"b\", \"c\"]\n",
        "default_value = 0\n",
        "new_dict = dict.fromkeys(keys, default_value)\n",
        "new_dict\n"
      ]
    },
    {
      "cell_type": "code",
      "execution_count": null,
      "metadata": {
        "id": "lSInesH9T0pu"
      },
      "outputs": [],
      "source": [
        "# adding new fruits"
      ]
    },
    {
      "cell_type": "code",
      "execution_count": null,
      "metadata": {
        "id": "8t1Mxz8CUWqj"
      },
      "outputs": [],
      "source": [
        "dict1[\"grapes\"] = 100"
      ]
    },
    {
      "cell_type": "code",
      "execution_count": null,
      "metadata": {
        "colab": {
          "base_uri": "https://localhost:8080/"
        },
        "id": "igEJ6fepUhA8",
        "outputId": "fdbb51de-78ae-48b5-843d-2a756811435b"
      },
      "outputs": [
        {
          "data": {
            "text/plain": [
              "{'apple': 100, 'Mango': 50, 'pear': 60, 'grape': 90, 'grapes': 100}"
            ]
          },
          "execution_count": 63,
          "metadata": {},
          "output_type": "execute_result"
        }
      ],
      "source": [
        "dict1"
      ]
    },
    {
      "cell_type": "code",
      "execution_count": null,
      "metadata": {
        "id": "tHnXRXcJUif8"
      },
      "outputs": [],
      "source": [
        "dict1[\"apple\"]=230"
      ]
    },
    {
      "cell_type": "code",
      "execution_count": null,
      "metadata": {
        "colab": {
          "base_uri": "https://localhost:8080/"
        },
        "id": "yhlfyXjZUwoc",
        "outputId": "b4e04b7b-8ffe-44e9-b5e7-4f66c0b90597"
      },
      "outputs": [
        {
          "data": {
            "text/plain": [
              "{'apple': 230, 'Mango': 50, 'pear': 60, 'grape': 90, 'grapes': 100}"
            ]
          },
          "execution_count": 65,
          "metadata": {},
          "output_type": "execute_result"
        }
      ],
      "source": [
        "dict1"
      ]
    },
    {
      "cell_type": "code",
      "execution_count": null,
      "metadata": {
        "id": "ngoYPhzmUxUP"
      },
      "outputs": [],
      "source": [
        "dict2 = {\"vikas\":23,\"raj\":23}"
      ]
    },
    {
      "cell_type": "code",
      "execution_count": null,
      "metadata": {
        "colab": {
          "base_uri": "https://localhost:8080/"
        },
        "id": "sRx24hlnU6Wa",
        "outputId": "0dff9546-0b94-4a2b-93b5-b7901556c27c"
      },
      "outputs": [
        {
          "data": {
            "text/plain": [
              "{'vikas': 23, 'raj': 23}"
            ]
          },
          "execution_count": 67,
          "metadata": {},
          "output_type": "execute_result"
        }
      ],
      "source": [
        "dict2"
      ]
    },
    {
      "cell_type": "code",
      "execution_count": null,
      "metadata": {
        "id": "SEPuGjJzU7FD"
      },
      "outputs": [],
      "source": [
        "dict2.update(dict1)"
      ]
    },
    {
      "cell_type": "code",
      "execution_count": null,
      "metadata": {
        "colab": {
          "base_uri": "https://localhost:8080/"
        },
        "id": "CC33shCXVAnp",
        "outputId": "d83951c2-05d4-428a-9fb3-189754939ab6"
      },
      "outputs": [
        {
          "data": {
            "text/plain": [
              "{'vikas': 23,\n",
              " 'raj': 23,\n",
              " 'apple': 230,\n",
              " 'Mango': 50,\n",
              " 'pear': 60,\n",
              " 'grape': 90,\n",
              " 'grapes': 100}"
            ]
          },
          "execution_count": 69,
          "metadata": {},
          "output_type": "execute_result"
        }
      ],
      "source": [
        "dict2"
      ]
    },
    {
      "cell_type": "code",
      "execution_count": null,
      "metadata": {
        "colab": {
          "base_uri": "https://localhost:8080/"
        },
        "id": "958WIm-rVBtQ",
        "outputId": "24f4b5eb-3deb-4e81-fc49-fa86bc31628d"
      },
      "outputs": [
        {
          "data": {
            "text/plain": [
              "230"
            ]
          },
          "execution_count": 70,
          "metadata": {},
          "output_type": "execute_result"
        }
      ],
      "source": [
        "dict1.pop(\"apple\")"
      ]
    },
    {
      "cell_type": "code",
      "execution_count": null,
      "metadata": {
        "colab": {
          "base_uri": "https://localhost:8080/"
        },
        "id": "Y5MtByO-VG2d",
        "outputId": "3df334f1-372e-4ec1-caa5-e7d7cdb23afd"
      },
      "outputs": [
        {
          "data": {
            "text/plain": [
              "{'Mango': 50, 'pear': 60, 'grape': 90, 'grapes': 100}"
            ]
          },
          "execution_count": 71,
          "metadata": {},
          "output_type": "execute_result"
        }
      ],
      "source": [
        "dict1"
      ]
    },
    {
      "cell_type": "code",
      "execution_count": null,
      "metadata": {
        "id": "z0GFOQklVIcl"
      },
      "outputs": [],
      "source": [
        "# Set :- It's unordered collection of elements , duplicate values is not allowed"
      ]
    },
    {
      "cell_type": "code",
      "execution_count": null,
      "metadata": {
        "id": "MOYPwstRqAit"
      },
      "outputs": [],
      "source": [
        "set1 = {2,3453,4545,34,45,34,34,34,54,23,23,23,}"
      ]
    },
    {
      "cell_type": "code",
      "execution_count": null,
      "metadata": {
        "colab": {
          "base_uri": "https://localhost:8080/"
        },
        "id": "XaTpSnwTqJLm",
        "outputId": "5f7b1983-d0ae-48a7-e964-d751dd70adf9"
      },
      "outputs": [
        {
          "data": {
            "text/plain": [
              "{2, 23, 34, 45, 54, 3453, 4545}"
            ]
          },
          "execution_count": 74,
          "metadata": {},
          "output_type": "execute_result"
        }
      ],
      "source": [
        "set1"
      ]
    },
    {
      "cell_type": "code",
      "execution_count": null,
      "metadata": {
        "colab": {
          "base_uri": "https://localhost:8080/"
        },
        "id": "Uhzg1t6xqJzY",
        "outputId": "2269ece8-7492-40b3-a0da-a0aa39a72d79"
      },
      "outputs": [
        {
          "data": {
            "text/plain": [
              "7"
            ]
          },
          "execution_count": 75,
          "metadata": {},
          "output_type": "execute_result"
        }
      ],
      "source": [
        "len(set1)"
      ]
    },
    {
      "cell_type": "code",
      "execution_count": null,
      "metadata": {
        "id": "441MRlYHqNVB"
      },
      "outputs": [],
      "source": [
        "set1.add(2345)"
      ]
    },
    {
      "cell_type": "code",
      "execution_count": null,
      "metadata": {
        "colab": {
          "base_uri": "https://localhost:8080/"
        },
        "id": "40gZjANdqRd5",
        "outputId": "20093261-ec76-45b7-e4f5-d56f3211327b"
      },
      "outputs": [
        {
          "data": {
            "text/plain": [
              "{2, 23, 34, 45, 54, 2345, 3453, 4545}"
            ]
          },
          "execution_count": 77,
          "metadata": {},
          "output_type": "execute_result"
        }
      ],
      "source": [
        "set1"
      ]
    },
    {
      "cell_type": "code",
      "execution_count": null,
      "metadata": {
        "id": "0sWDUrWfqTO7"
      },
      "outputs": [],
      "source": [
        "set1.update([1,2,3,4,5])"
      ]
    },
    {
      "cell_type": "code",
      "execution_count": null,
      "metadata": {
        "colab": {
          "base_uri": "https://localhost:8080/"
        },
        "id": "8JrodmIRqaG-",
        "outputId": "e9612dc8-ec9b-46c4-f647-b7b3a52599db"
      },
      "outputs": [
        {
          "data": {
            "text/plain": [
              "{1, 2, 3, 4, 5, 23, 34, 45, 54, 2345, 3453, 4545}"
            ]
          },
          "execution_count": 82,
          "metadata": {},
          "output_type": "execute_result"
        }
      ],
      "source": [
        "set1"
      ]
    },
    {
      "cell_type": "code",
      "execution_count": null,
      "metadata": {
        "id": "io5DVtXoqkFd"
      },
      "outputs": [],
      "source": [
        "# conditional statement"
      ]
    },
    {
      "cell_type": "code",
      "execution_count": null,
      "metadata": {
        "colab": {
          "base_uri": "https://localhost:8080/"
        },
        "id": "5uqG9KT7rW7L",
        "outputId": "c54d4751-cd8c-44d5-9eb7-4d62d523812e"
      },
      "outputs": [
        {
          "name": "stdout",
          "output_type": "stream",
          "text": [
            "Greater\n",
            " 5 is grater than 2\n"
          ]
        }
      ],
      "source": [
        "if 5>2:\n",
        "    print(\"Greater\")\n",
        "    print(\" 5 is grater than 2\")\n",
        "    if (6<2):\n",
        "        print(\"6 is greater than 2\")"
      ]
    },
    {
      "cell_type": "code",
      "execution_count": null,
      "metadata": {
        "colab": {
          "base_uri": "https://localhost:8080/"
        },
        "id": "yS_U_d1Brgbv",
        "outputId": "321efa37-e912-4185-93ce-051845fb21b0"
      },
      "outputs": [
        {
          "name": "stdout",
          "output_type": "stream",
          "text": [
            "c is greater than a and b\n"
          ]
        }
      ],
      "source": [
        "a = 10\n",
        "b =20\n",
        "c = 30\n",
        "\n",
        "if a>b and a>c:\n",
        "  print (\"a is greater than b and c\")\n",
        "elif b>a and b>c:\n",
        "  print (\"b is greater than a and c\")\n",
        "else:\n",
        "  print (\"c is greater than a and b\")\n",
        "\n"
      ]
    },
    {
      "cell_type": "code",
      "execution_count": null,
      "metadata": {
        "colab": {
          "base_uri": "https://localhost:8080/"
        },
        "id": "eaqg_DVisQOw",
        "outputId": "bb2d618b-d6af-49c2-e258-d09795b9b1d0"
      },
      "outputs": [
        {
          "name": "stdout",
          "output_type": "stream",
          "text": [
            "Enter your marks( 0 to 100): 35\n",
            "Grade F and you are fail\n"
          ]
        }
      ],
      "source": [
        "marks = int(input(\"Enter your marks( 0 to 100): \"))\n",
        "\n",
        "if marks >=90 and marks <=100:\n",
        "  print(\"Grade A\")\n",
        "elif marks >=80 and marks <=90:\n",
        "  print(\"Grade B\")\n",
        "elif marks >=70 and marks <=80:\n",
        "  print(\"Grade C\")\n",
        "elif marks >=60 and marks <=70:\n",
        "  print(\"Grade D\")\n",
        "elif marks >=50 and marks <=60:\n",
        "  print(\"Grade E\")\n",
        "elif marks >=0 and marks <=50:\n",
        "  print(\"Grade F and you are fail\")\n",
        "else:\n",
        "  print(\"Invalid input\")"
      ]
    },
    {
      "cell_type": "code",
      "execution_count": null,
      "metadata": {
        "colab": {
          "base_uri": "https://localhost:8080/"
        },
        "id": "zEQ_4SkZs_mO",
        "outputId": "9577e20b-6e21-4561-c650-74240bcd7a9e"
      },
      "outputs": [
        {
          "name": "stdout",
          "output_type": "stream",
          "text": [
            "23 is present in the list\n"
          ]
        }
      ],
      "source": [
        "l1 = [23,34,456,4,45]\n",
        "if 23 in l1:\n",
        "  print(\"23 is present in the list\")\n",
        "else:\n",
        "  print(\"23 is not present in the list\")"
      ]
    },
    {
      "cell_type": "code",
      "execution_count": null,
      "metadata": {
        "colab": {
          "base_uri": "https://localhost:8080/"
        },
        "id": "nZZBg7ImtWij",
        "outputId": "b04c2183-6d39-4f0d-8700-eb7a9faf8e9f"
      },
      "outputs": [
        {
          "name": "stdout",
          "output_type": "stream",
          "text": [
            "['10', '323', '30', '34', '50']\n"
          ]
        }
      ],
      "source": [
        "l1 = ['10', '20', '30', '34', '50']\n",
        "\n",
        "if '34' in l1:\n",
        "    l1[1] = '323'\n",
        "    print(l1)\n"
      ]
    },
    {
      "cell_type": "code",
      "execution_count": null,
      "metadata": {
        "id": "D8XKXpVytoPj"
      },
      "outputs": [],
      "source": [
        "# while loop :-  A while loop repeats a block of code as long as a condition is true.\n",
        "\n"
      ]
    },
    {
      "cell_type": "code",
      "execution_count": null,
      "metadata": {
        "colab": {
          "base_uri": "https://localhost:8080/"
        },
        "id": "YAA1xnp1wzLp",
        "outputId": "176d4f27-e437-4d1f-8763-01020cf4861e"
      },
      "outputs": [
        {
          "name": "stdout",
          "output_type": "stream",
          "text": [
            "count is: 1\n",
            "count is: 2\n",
            "count is: 3\n",
            "count is: 4\n",
            "count is: 5\n",
            "count is: 6\n",
            "count is: 7\n",
            "count is: 8\n",
            "count is: 9\n",
            "count is: 10\n"
          ]
        }
      ],
      "source": [
        "count = 1\n",
        "\n",
        "while count<=10:\n",
        "  print(\"count is:\",count)\n",
        "  count = count+1\n"
      ]
    },
    {
      "cell_type": "code",
      "execution_count": null,
      "metadata": {
        "colab": {
          "base_uri": "https://localhost:8080/"
        },
        "id": "kZuw31_rxKIO",
        "outputId": "93f00726-1ba9-4e3c-b2bd-b20e0dfa0cee"
      },
      "outputs": [
        {
          "name": "stdout",
          "output_type": "stream",
          "text": [
            "countdown: 5\n",
            "countdown: 4\n",
            "countdown: 3\n",
            "countdown: 2\n",
            "countdown: 1\n",
            "time's up\n"
          ]
        }
      ],
      "source": [
        "second = 5\n",
        "\n",
        "while second >0:\n",
        "  print(\"countdown:\",second)\n",
        "  second -= 1\n",
        "\n",
        "print(\"time's up\")"
      ]
    },
    {
      "cell_type": "code",
      "execution_count": null,
      "metadata": {
        "colab": {
          "base_uri": "https://localhost:8080/"
        },
        "id": "NVpmw9Ucx6Ks",
        "outputId": "b04ee097-bed3-4924-e0ee-1f2452bd1784"
      },
      "outputs": [
        {
          "name": "stdout",
          "output_type": "stream",
          "text": [
            "Enter password: 234\n",
            "Enter password: 4353\n",
            "Enter password: 4534\n",
            "Enter password: 34\n",
            "Enter password: 4\n",
            "Enter password: 34\n",
            "Enter password: \n",
            "Enter password: 1234\n",
            "✅ Correct password! Access granted.\n"
          ]
        }
      ],
      "source": [
        "password = \"\"\n",
        "\n",
        "while password != \"1234\":\n",
        "    password = input(\"Enter password: \")\n",
        "\n",
        "print(\" Correct password! Access granted.\")"
      ]
    },
    {
      "cell_type": "code",
      "execution_count": null,
      "metadata": {
        "colab": {
          "base_uri": "https://localhost:8080/"
        },
        "id": "waqgq306yC7X",
        "outputId": "51253d2d-8217-40a4-92b2-70144a1ed9b4"
      },
      "outputs": [
        {
          "name": "stdout",
          "output_type": "stream",
          "text": [
            "Sum of first 5 numbers is: 15\n"
          ]
        }
      ],
      "source": [
        "n = 5\n",
        "total = 0\n",
        "i = 1\n",
        "\n",
        "while i <= n:\n",
        "    total += i\n",
        "    i += 1\n",
        "\n",
        "print(\"Sum of first\", n, \"numbers is:\", total)"
      ]
    },
    {
      "cell_type": "code",
      "execution_count": null,
      "metadata": {
        "colab": {
          "background_save": true,
          "base_uri": "https://localhost:8080/"
        },
        "id": "JCq6dr83yX5h",
        "outputId": "e1aeab2a-e4b9-4a6a-c257-b067e9000456"
      },
      "outputs": [
        {
          "name": "stdout",
          "output_type": "stream",
          "text": [
            "Try a lower number.\n",
            "Try a higher number.\n",
            "Try a lower number.\n",
            "Try a higher number.\n",
            "Try a lower number.\n",
            "Try a lower number.\n"
          ]
        }
      ],
      "source": [
        "import random\n",
        "\n",
        "secret = random.randint(1, 100)\n",
        "attempt = 0\n",
        "\n",
        "while True:\n",
        "    guess = int(input(\"Guess the secret number (between 1 and 100): \"))\n",
        "    attempt += 1\n",
        "\n",
        "    if guess == secret:\n",
        "        print(f\"You guessed the secret number in {attempt} attempts!\")\n",
        "        break\n",
        "    elif guess < secret:\n",
        "        print(\"Try a higher number.\")\n",
        "    else:\n",
        "        print(\"Try a lower number.\")"
      ]
    },
    {
      "cell_type": "code",
      "execution_count": null,
      "metadata": {
        "id": "rlkP6B4bzMAu"
      },
      "outputs": [],
      "source": [
        "i = 0\n",
        "\n",
        "while True:\n",
        "    i += 1\n",
        "    if i % 2 != 0:\n",
        "        continue  # skip odd numbers\n",
        "    print(i)\n",
        "    if i >= 10:\n",
        "        break\n"
      ]
    },
    {
      "cell_type": "code",
      "execution_count": null,
      "metadata": {
        "id": "p38My_nMzw9w"
      },
      "outputs": [],
      "source": [
        "tasks = [\"email\", \"code\", \"test\", \"debug\"]\n",
        "\n",
        "while tasks:\n",
        "    current = tasks.pop(0)  # remove first item\n",
        "    print(\"Completed task:\", current)\n",
        "\n",
        "print(\"🎉 All tasks done!\")\n"
      ]
    },
    {
      "cell_type": "code",
      "execution_count": null,
      "metadata": {
        "id": "ioKXEGJez4hL"
      },
      "outputs": [],
      "source": [
        "i =1\n",
        "\n",
        "while i <=3:\n",
        "  j = 1\n",
        "  while j <=3:\n",
        "    print(f\"({i}{j})\",end =\"\")\n",
        "    j +=1\n",
        "  print()\n",
        "  i +=1"
      ]
    },
    {
      "cell_type": "code",
      "execution_count": null,
      "metadata": {
        "id": "U_waMXT60XLV"
      },
      "outputs": [],
      "source": [
        "correct_password = \"python123\"\n",
        "tries = 3\n",
        "\n",
        "while tries > 0:\n",
        "    user_input = input(\"Enter password: \")\n",
        "\n",
        "    if user_input == correct_password:\n",
        "        print(\" Access Granted\")\n",
        "        break\n",
        "    else:\n",
        "        tries -= 1\n",
        "        print(\" Wrong password. Attempts left:\", tries)\n",
        "\n",
        "if tries == 0:\n",
        "    print(\"Account locked due to too many failed attempts.\")\n"
      ]
    },
    {
      "cell_type": "code",
      "execution_count": 2,
      "metadata": {
        "id": "nJ6vERVW0doo",
        "colab": {
          "base_uri": "https://localhost:8080/"
        },
        "outputId": "d7f8cd60-5c08-4a92-e870-ee4ea151b6aa"
      },
      "outputs": [
        {
          "output_type": "stream",
          "name": "stdout",
          "text": [
            "2  * i = 2\n",
            "2  * i = 4\n",
            "2  * i = 6\n",
            "2  * i = 8\n",
            "2  * i = 10\n",
            "2  * i = 12\n",
            "2  * i = 14\n",
            "2  * i = 16\n",
            "2  * i = 18\n",
            "2  * i = 20\n"
          ]
        }
      ],
      "source": [
        "#\n",
        "i =1\n",
        "n =2\n",
        "while i <=10:\n",
        "  print(n,\"\",\"*\",'i',\"=\", n*i)\n",
        "  i = i+1"
      ]
    },
    {
      "cell_type": "code",
      "source": [
        "# For loop :- It is a iterate over a sequence (tuple,dict,lost)"
      ],
      "metadata": {
        "id": "Aa-BcIdRByuA"
      },
      "execution_count": 2,
      "outputs": []
    },
    {
      "cell_type": "code",
      "source": [
        "l1 = [1,23,345,54,65]\n",
        "for i in l1:\n",
        "  print(i)\n",
        ""
      ],
      "metadata": {
        "colab": {
          "base_uri": "https://localhost:8080/"
        },
        "id": "LYYECPgDqzTj",
        "outputId": "33ccc7a5-6fab-477b-c5dc-b8bce7d440d7"
      },
      "execution_count": 3,
      "outputs": [
        {
          "output_type": "stream",
          "name": "stdout",
          "text": [
            "1\n",
            "23\n",
            "345\n",
            "54\n",
            "65\n"
          ]
        }
      ]
    },
    {
      "cell_type": "code",
      "source": [
        "l2 = ['apple','grapes','mangos','orange']\n",
        "for i in l2:\n",
        "  print(i)"
      ],
      "metadata": {
        "colab": {
          "base_uri": "https://localhost:8080/"
        },
        "id": "OrIfFIYVrH25",
        "outputId": "f8e92f80-accd-4b05-956c-70885ecf63e8"
      },
      "execution_count": 4,
      "outputs": [
        {
          "output_type": "stream",
          "name": "stdout",
          "text": [
            "apple\n",
            "grapes\n",
            "mangos\n",
            "orange\n"
          ]
        }
      ]
    },
    {
      "cell_type": "code",
      "source": [
        "# multiple forloop"
      ],
      "metadata": {
        "id": "bLDuwxXlrTG8"
      },
      "execution_count": 5,
      "outputs": []
    },
    {
      "cell_type": "code",
      "source": [
        "for i in l1:\n",
        "  for j in l2:\n",
        "    print(i,j)"
      ],
      "metadata": {
        "colab": {
          "base_uri": "https://localhost:8080/"
        },
        "id": "MjeBw7bdrYnm",
        "outputId": "5d183d66-ca42-450c-8244-fbddfa3deee6"
      },
      "execution_count": 7,
      "outputs": [
        {
          "output_type": "stream",
          "name": "stdout",
          "text": [
            "1 apple\n",
            "1 grapes\n",
            "1 mangos\n",
            "1 orange\n",
            "23 apple\n",
            "23 grapes\n",
            "23 mangos\n",
            "23 orange\n",
            "345 apple\n",
            "345 grapes\n",
            "345 mangos\n",
            "345 orange\n",
            "54 apple\n",
            "54 grapes\n",
            "54 mangos\n",
            "54 orange\n",
            "65 apple\n",
            "65 grapes\n",
            "65 mangos\n",
            "65 orange\n"
          ]
        }
      ]
    },
    {
      "cell_type": "code",
      "source": [
        "# Function :-  IT's block of code which perform specific task\n",
        "Q = '''there are two type of function 1, built in function 2, user define function'''"
      ],
      "metadata": {
        "id": "PaxWJJIrrcdp"
      },
      "execution_count": 11,
      "outputs": []
    },
    {
      "cell_type": "code",
      "source": [
        "Q"
      ],
      "metadata": {
        "colab": {
          "base_uri": "https://localhost:8080/",
          "height": 36
        },
        "id": "NZ7-SahosRIQ",
        "outputId": "0928b741-e196-4f38-ed9f-d0fa0f04bd21"
      },
      "execution_count": 13,
      "outputs": [
        {
          "output_type": "execute_result",
          "data": {
            "text/plain": [
              "'there are two type of function 1, built in function 2, user define function'"
            ],
            "application/vnd.google.colaboratory.intrinsic+json": {
              "type": "string"
            }
          },
          "metadata": {},
          "execution_count": 13
        }
      ]
    },
    {
      "cell_type": "code",
      "source": [
        "def add():  # a function without any parameter\n",
        "    x = 10\n",
        "    y = 45\n",
        "    c = x + y\n",
        "    print(\"Sum is:\", c)\n",
        "\n",
        "add()\n"
      ],
      "metadata": {
        "colab": {
          "base_uri": "https://localhost:8080/"
        },
        "id": "tvo2g3ROtXV6",
        "outputId": "a03da98c-bb93-42b7-8f5f-8787cb7416b5"
      },
      "execution_count": 35,
      "outputs": [
        {
          "output_type": "stream",
          "name": "stdout",
          "text": [
            "Sum is: 55\n"
          ]
        }
      ]
    },
    {
      "cell_type": "code",
      "source": [
        "def add(y): # y is parameter\n",
        "  x =34\n",
        "  c = x+y\n",
        "  print(c)\n",
        "add(23) # 23 is the arguments"
      ],
      "metadata": {
        "colab": {
          "base_uri": "https://localhost:8080/"
        },
        "id": "-sYKUI7RuO0V",
        "outputId": "d07272b5-00b2-49e0-b66e-685c6004b609"
      },
      "execution_count": 30,
      "outputs": [
        {
          "output_type": "stream",
          "name": "stdout",
          "text": [
            "57\n"
          ]
        }
      ]
    },
    {
      "cell_type": "code",
      "source": [
        "def dis():\n",
        "  name = \"vikas\"\n",
        "  print(\"my name is vikas \")\n",
        "\n",
        "dis()\n"
      ],
      "metadata": {
        "colab": {
          "base_uri": "https://localhost:8080/"
        },
        "id": "DjKeSs0SyTO7",
        "outputId": "96c51408-61c2-4e48-c873-f21d56e70b52"
      },
      "execution_count": 40,
      "outputs": [
        {
          "output_type": "stream",
          "name": "stdout",
          "text": [
            "my name is vikas \n"
          ]
        }
      ]
    },
    {
      "cell_type": "code",
      "source": [
        "def add(x,y):\n",
        "  return x+y\n",
        "\n",
        "def subtract(x,y):\n",
        "  return x-y\n",
        "\n",
        "def multiply(x,y):\n",
        "  return x*y\n",
        "\n",
        "def divide(x,y):\n",
        "  if y !=0:\n",
        "    return x/y\n",
        "  else:\n",
        "    print(\"can not Division by zero\")\n",
        "\n",
        "print(\"select operation\")\n",
        "print( \"1 add\")\n",
        "print( \" 2 Substract\")\n",
        "print(\"3 multiply  \")\n",
        "print( \"4 division\")\n",
        "\n",
        "choice = input(\"Enter choice(1/2/3/4)\")\n",
        "num1 = float(input(\"Enter first number:\"))\n",
        "num2 = float(input(\"Enter second number:\"))\n",
        "\n",
        "if choice == '1':\n",
        "  print(num1,\"+\",num2,\"=\",add(num1,num2))\n",
        "elif choice =='2':\n",
        "  print(num1,\"-\",num2,\"=\",subtract(num1,num2))\n",
        "elif choice =='3':\n",
        "  print(num1,\"*\",num2,\"=\",multiply(num1,num2))\n",
        "elif choice =='4':\n",
        "  print(num1,\"/\",num2,\"=\",divide(num1,num2))\n",
        "else:\n",
        "  print(\"Invalid input\")\n",
        "\n",
        "\n",
        "# add(21, 34)\n",
        "# subtract(43,3)\n",
        "# multiply(23,43)\n",
        "# divide(43,87)"
      ],
      "metadata": {
        "colab": {
          "base_uri": "https://localhost:8080/"
        },
        "id": "A4ps2kqwzdst",
        "outputId": "0f66e17f-767e-4d2a-8ebe-c166fb3a0926"
      },
      "execution_count": null,
      "outputs": [
        {
          "output_type": "stream",
          "name": "stdout",
          "text": [
            "select operation\n",
            "1 add\n",
            " 2 Substract\n",
            "3 multiply  \n",
            "4 division\n"
          ]
        }
      ]
    },
    {
      "cell_type": "code",
      "source": [
        "#**return** statement is used inside a function to send back (return) a value to the place where the function was called.\n",
        "# When to Use return?\n",
        " #Use return when:\n",
        "\n",
        "#1. 🔁 You need the result of the function later (to store, use, or print).\n",
        "#2. 🧠 You want the function to give back a value instead of just printing.\n"
      ],
      "metadata": {
        "id": "Ht9iyb7f4aeD"
      },
      "execution_count": null,
      "outputs": []
    },
    {
      "cell_type": "code",
      "source": [
        "def square(x):\n",
        "    return x * x\n",
        "\n",
        "result = square(5)\n",
        "print(\"Square is:\", result)  # Output: Square is: 25\n"
      ],
      "metadata": {
        "id": "UUjjpYCl515j"
      },
      "execution_count": null,
      "outputs": []
    },
    {
      "cell_type": "code",
      "source": [
        "def square(x):\n",
        "    print(x * x)\n",
        "\n",
        "result = square(5)     # Output: 25\n",
        "print(\"Returned:\", result)  # Output: Returned: None\n"
      ],
      "metadata": {
        "id": "5oEr1xe552k_"
      },
      "execution_count": null,
      "outputs": []
    },
    {
      "cell_type": "code",
      "source": [
        "def calculator(a,b):\n",
        "  return a+b, a-b\n",
        "\n",
        "  result = calculate(23,345)\n",
        "  print(result)\n",
        "  #  a function with parameter and arguments"
      ],
      "metadata": {
        "id": "MZFdc1WY56Bn"
      },
      "execution_count": null,
      "outputs": []
    },
    {
      "cell_type": "code",
      "source": [],
      "metadata": {
        "id": "uGu0kPis6MxJ"
      },
      "execution_count": null,
      "outputs": []
    }
  ],
  "metadata": {
    "colab": {
      "provenance": [],
      "toc_visible": true,
      "authorship_tag": "ABX9TyMHCwinjdRB9pmzQKsnsCgk",
      "include_colab_link": true
    },
    "kernelspec": {
      "display_name": "Python 3",
      "name": "python3"
    },
    "language_info": {
      "name": "python"
    }
  },
  "nbformat": 4,
  "nbformat_minor": 0
}